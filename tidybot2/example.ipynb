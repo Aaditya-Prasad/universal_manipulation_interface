{
 "cells": [
  {
   "cell_type": "code",
   "execution_count": 1,
   "metadata": {},
   "outputs": [
    {
     "name": "stderr",
     "output_type": "stream",
     "text": [
      "/juno/u/aadityap/miniforge3/envs/robodiff-retry/lib/python3.9/site-packages/tqdm/auto.py:22: TqdmWarning: IProgress not found. Please update jupyter and ipywidgets. See https://ipywidgets.readthedocs.io/en/stable/user_install.html\n",
      "  from .autonotebook import tqdm as notebook_tqdm\n"
     ]
    }
   ],
   "source": [
    "import torch\n",
    "from torch import nn\n",
    "from tidybot2.utils import get_policy, rmat_to_quat, rot6d_to_rmat\n",
    "from tidybot2.policy_wrapper import PolicyWrapper\n",
    "import numpy as np"
   ]
  },
  {
   "cell_type": "code",
   "execution_count": 2,
   "metadata": {},
   "outputs": [],
   "source": [
    "ckpt_path = '/juno/u/aadityap/universal_manipulation_interface/data/test/checkpoints/epoch_8450.ckpt'"
   ]
  },
  {
   "cell_type": "code",
   "execution_count": 3,
   "metadata": {},
   "outputs": [
    {
     "name": "stdout",
     "output_type": "stream",
     "text": [
      "You are using the CTM base workspace! Ensure that you don't wish to use the normal DP base workspace.\n",
      "\n",
      "============= Initialized Observation Utils with Obs Spec =============\n",
      "\n",
      "using obs modality: low_dim with keys: ['arm_rot_axis_angle', 'gripper_pos', 'arm_rot_axis_angle_wrt_start', 'base_pose', 'arm_pos']\n",
      "using obs modality: rgb with keys: ['base_image', 'wrist_image']\n",
      "using obs modality: depth with keys: []\n",
      "using obs modality: scan with keys: []\n"
     ]
    },
    {
     "name": "stderr",
     "output_type": "stream",
     "text": [
      "/juno/u/aadityap/miniforge3/envs/robodiff-retry/lib/python3.9/site-packages/torchvision/models/_utils.py:208: UserWarning: The parameter 'pretrained' is deprecated since 0.13 and will be removed in 0.15, please use 'weights' instead.\n",
      "  warnings.warn(\n",
      "/juno/u/aadityap/miniforge3/envs/robodiff-retry/lib/python3.9/site-packages/torchvision/models/_utils.py:223: UserWarning: Arguments other than a weight enum or `None` for 'weights' are deprecated since 0.13 and will be removed in 0.15. The current behavior is equivalent to passing `weights=None`.\n",
      "  warnings.warn(msg)\n"
     ]
    },
    {
     "name": "stdout",
     "output_type": "stream",
     "text": [
      "Diffusion params: 6.721550e+07\n",
      "Vision params: 2.239418e+07\n",
      "_output_dir\n",
      "global_step\n",
      "epoch\n"
     ]
    }
   ],
   "source": [
    "policy = get_policy(ckpt_path)"
   ]
  },
  {
   "cell_type": "code",
   "execution_count": 9,
   "metadata": {},
   "outputs": [],
   "source": [
    "device = 'cuda' if torch.cuda.is_available() else 'cpu'\n",
    "policy = policy.to(device)\n",
    "policy.eval()\n",
    "for param in policy.parameters():\n",
    "    param.requires_grad = False\n",
    "pw = PolicyWrapper(policy, n_obs=2, n_acts=8, d_pos=6, d_rot=6, device=device)"
   ]
  },
  {
   "cell_type": "code",
   "execution_count": 10,
   "metadata": {},
   "outputs": [],
   "source": [
    "# This is for the mobile base, fill in with your shapes\n",
    "obs = {\n",
    "    'base_pose': np.zeros(3),\n",
    "    'arm_pos': np.zeros(3),\n",
    "    'arm_rot_axis_angle': np.zeros(6),\n",
    "    'arm_rot_axis_angle_wrt_start': np.zeros(6),\n",
    "    'gripper_pos': np.zeros(1),\n",
    "    'base_image': np.zeros((84, 84, 3), dtype=np.uint8),\n",
    "    'wrist_image': np.zeros((84, 84, 3), dtype=np.uint8),\n",
    "}"
   ]
  },
  {
   "cell_type": "code",
   "execution_count": 11,
   "metadata": {},
   "outputs": [
    {
     "name": "stdout",
     "output_type": "stream",
     "text": [
      "[-7.6663634e-04  2.2800708e-04  4.4526644e-03 -5.3826803e-03\n",
      "  4.1822963e-03 -1.8360387e-03  9.5115089e-01 -2.3221029e-02\n",
      " -1.1508905e-02 -6.1398495e-02  9.6268797e-01  1.9202767e-02\n",
      "  9.5908457e-01]\n"
     ]
    }
   ],
   "source": [
    "action = pw.get_action(obs)\n",
    "print(action)"
   ]
  },
  {
   "cell_type": "code",
   "execution_count": null,
   "metadata": {},
   "outputs": [],
   "source": [
    "base_pose = action[:3]\n",
    "arm_pos = action[3:6]\n",
    "arm_6d = torch.from_numpy(action[6:12])\n",
    "arm_quat = rmat_to_quat(rot6d_to_rmat(arm_6d))\n",
    "gripper_pos = action[12:13]\n",
    "\n",
    "action_dict = {\n",
    "    'base_pose': base_pose,\n",
    "    'arm_pos': arm_pos,\n",
    "    'arm_quat': arm_quat,\n",
    "    'gripper_pos': gripper_pos\n",
    "}"
   ]
  }
 ],
 "metadata": {
  "kernelspec": {
   "display_name": "Python 3 (ipykernel)",
   "language": "python",
   "name": "python3"
  },
  "language_info": {
   "codemirror_mode": {
    "name": "ipython",
    "version": 3
   },
   "file_extension": ".py",
   "mimetype": "text/x-python",
   "name": "python",
   "nbconvert_exporter": "python",
   "pygments_lexer": "ipython3",
   "version": "3.9.15"
  }
 },
 "nbformat": 4,
 "nbformat_minor": 2
}
